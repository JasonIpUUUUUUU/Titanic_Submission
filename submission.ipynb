{
 "cells": [
  {
   "cell_type": "code",
   "execution_count": 1,
   "id": "f1fed279",
   "metadata": {
    "_cell_guid": "b1076dfc-b9ad-4769-8c92-a6c4dae69d19",
    "_uuid": "8f2839f25d086af736a60e9eeb907d3b93b6e0e5",
    "execution": {
     "iopub.execute_input": "2024-05-15T12:27:54.849172Z",
     "iopub.status.busy": "2024-05-15T12:27:54.848344Z",
     "iopub.status.idle": "2024-05-15T12:27:57.317630Z",
     "shell.execute_reply": "2024-05-15T12:27:57.316055Z"
    },
    "papermill": {
     "duration": 2.478371,
     "end_time": "2024-05-15T12:27:57.320455",
     "exception": false,
     "start_time": "2024-05-15T12:27:54.842084",
     "status": "completed"
    },
    "tags": []
   },
   "outputs": [
    {
     "name": "stdout",
     "output_type": "stream",
     "text": [
      "/kaggle/input/titanic/train.csv\n",
      "/kaggle/input/titanic/test.csv\n",
      "/kaggle/input/titanic/gender_submission.csv\n"
     ]
    }
   ],
   "source": [
    "# This Python 3 environment comes with many helpful analytics libraries installed\n",
    "# It is defined by the kaggle/python Docker image: https://github.com/kaggle/docker-python\n",
    "# For example, here's several helpful packages to load\n",
    "\n",
    "import random\n",
    "import numpy as np # linear algebra\n",
    "import pandas as pd # data processing, CSV file I/O (e.g. pd.read_csv)\n",
    "from sklearn.metrics import mean_absolute_error\n",
    "from sklearn.model_selection import train_test_split\n",
    "from sklearn.tree import DecisionTreeClassifier\n",
    "from sklearn.ensemble import RandomForestClassifier\n",
    "\n",
    "# Input data files are available in the read-only \"../input/\" directory\n",
    "# For example, running this (by clicking run or pressing Shift+Enter) will list all files under the input directory\n",
    "\n",
    "import os\n",
    "for dirname, _, filenames in os.walk('/kaggle/input'):\n",
    "    for filename in filenames:\n",
    "        print(os.path.join(dirname, filename))\n",
    "\n",
    "# You can write up to 20GB to the current directory (/kaggle/working/) that gets preserved as output when you create a version using \"Save & Run All\" \n",
    "# You can also write temporary files to /kaggle/temp/, but they won't be saved outside of the current session"
   ]
  },
  {
   "cell_type": "code",
   "execution_count": 2,
   "id": "6378f154",
   "metadata": {
    "execution": {
     "iopub.execute_input": "2024-05-15T12:27:57.329775Z",
     "iopub.status.busy": "2024-05-15T12:27:57.329281Z",
     "iopub.status.idle": "2024-05-15T12:27:57.408482Z",
     "shell.execute_reply": "2024-05-15T12:27:57.407329Z"
    },
    "papermill": {
     "duration": 0.086619,
     "end_time": "2024-05-15T12:27:57.411119",
     "exception": false,
     "start_time": "2024-05-15T12:27:57.324500",
     "status": "completed"
    },
    "tags": []
   },
   "outputs": [
    {
     "data": {
      "text/html": [
       "<div>\n",
       "<style scoped>\n",
       "    .dataframe tbody tr th:only-of-type {\n",
       "        vertical-align: middle;\n",
       "    }\n",
       "\n",
       "    .dataframe tbody tr th {\n",
       "        vertical-align: top;\n",
       "    }\n",
       "\n",
       "    .dataframe thead th {\n",
       "        text-align: right;\n",
       "    }\n",
       "</style>\n",
       "<table border=\"1\" class=\"dataframe\">\n",
       "  <thead>\n",
       "    <tr style=\"text-align: right;\">\n",
       "      <th></th>\n",
       "      <th>PassengerId</th>\n",
       "      <th>Pclass</th>\n",
       "      <th>Age</th>\n",
       "      <th>SibSp</th>\n",
       "      <th>Parch</th>\n",
       "      <th>Fare</th>\n",
       "    </tr>\n",
       "  </thead>\n",
       "  <tbody>\n",
       "    <tr>\n",
       "      <th>count</th>\n",
       "      <td>418.000000</td>\n",
       "      <td>418.000000</td>\n",
       "      <td>332.000000</td>\n",
       "      <td>418.000000</td>\n",
       "      <td>418.000000</td>\n",
       "      <td>417.000000</td>\n",
       "    </tr>\n",
       "    <tr>\n",
       "      <th>mean</th>\n",
       "      <td>1100.500000</td>\n",
       "      <td>2.265550</td>\n",
       "      <td>30.272590</td>\n",
       "      <td>0.447368</td>\n",
       "      <td>0.392344</td>\n",
       "      <td>35.627188</td>\n",
       "    </tr>\n",
       "    <tr>\n",
       "      <th>std</th>\n",
       "      <td>120.810458</td>\n",
       "      <td>0.841838</td>\n",
       "      <td>14.181209</td>\n",
       "      <td>0.896760</td>\n",
       "      <td>0.981429</td>\n",
       "      <td>55.907576</td>\n",
       "    </tr>\n",
       "    <tr>\n",
       "      <th>min</th>\n",
       "      <td>892.000000</td>\n",
       "      <td>1.000000</td>\n",
       "      <td>0.170000</td>\n",
       "      <td>0.000000</td>\n",
       "      <td>0.000000</td>\n",
       "      <td>0.000000</td>\n",
       "    </tr>\n",
       "    <tr>\n",
       "      <th>25%</th>\n",
       "      <td>996.250000</td>\n",
       "      <td>1.000000</td>\n",
       "      <td>21.000000</td>\n",
       "      <td>0.000000</td>\n",
       "      <td>0.000000</td>\n",
       "      <td>7.895800</td>\n",
       "    </tr>\n",
       "    <tr>\n",
       "      <th>50%</th>\n",
       "      <td>1100.500000</td>\n",
       "      <td>3.000000</td>\n",
       "      <td>27.000000</td>\n",
       "      <td>0.000000</td>\n",
       "      <td>0.000000</td>\n",
       "      <td>14.454200</td>\n",
       "    </tr>\n",
       "    <tr>\n",
       "      <th>75%</th>\n",
       "      <td>1204.750000</td>\n",
       "      <td>3.000000</td>\n",
       "      <td>39.000000</td>\n",
       "      <td>1.000000</td>\n",
       "      <td>0.000000</td>\n",
       "      <td>31.500000</td>\n",
       "    </tr>\n",
       "    <tr>\n",
       "      <th>max</th>\n",
       "      <td>1309.000000</td>\n",
       "      <td>3.000000</td>\n",
       "      <td>76.000000</td>\n",
       "      <td>8.000000</td>\n",
       "      <td>9.000000</td>\n",
       "      <td>512.329200</td>\n",
       "    </tr>\n",
       "  </tbody>\n",
       "</table>\n",
       "</div>"
      ],
      "text/plain": [
       "       PassengerId      Pclass         Age       SibSp       Parch        Fare\n",
       "count   418.000000  418.000000  332.000000  418.000000  418.000000  417.000000\n",
       "mean   1100.500000    2.265550   30.272590    0.447368    0.392344   35.627188\n",
       "std     120.810458    0.841838   14.181209    0.896760    0.981429   55.907576\n",
       "min     892.000000    1.000000    0.170000    0.000000    0.000000    0.000000\n",
       "25%     996.250000    1.000000   21.000000    0.000000    0.000000    7.895800\n",
       "50%    1100.500000    3.000000   27.000000    0.000000    0.000000   14.454200\n",
       "75%    1204.750000    3.000000   39.000000    1.000000    0.000000   31.500000\n",
       "max    1309.000000    3.000000   76.000000    8.000000    9.000000  512.329200"
      ]
     },
     "execution_count": 2,
     "metadata": {},
     "output_type": "execute_result"
    }
   ],
   "source": [
    "trainData = '/kaggle/input/titanic/train.csv'\n",
    "testData = '/kaggle/input/titanic/test.csv'\n",
    "submissionExample = '/kaggle/input/titanic/gender_submission.csv'\n",
    "\n",
    "data_train = pd.read_csv(trainData)\n",
    "\n",
    "data_test = pd.read_csv(testData)\n",
    "\n",
    "data_submissions = pd.read_csv(submissionExample)\n",
    "\n",
    "data_test.describe()"
   ]
  },
  {
   "cell_type": "code",
   "execution_count": 3,
   "id": "9de8622c",
   "metadata": {
    "execution": {
     "iopub.execute_input": "2024-05-15T12:27:57.420831Z",
     "iopub.status.busy": "2024-05-15T12:27:57.420400Z",
     "iopub.status.idle": "2024-05-15T12:27:57.432090Z",
     "shell.execute_reply": "2024-05-15T12:27:57.430614Z"
    },
    "papermill": {
     "duration": 0.01921,
     "end_time": "2024-05-15T12:27:57.434453",
     "exception": false,
     "start_time": "2024-05-15T12:27:57.415243",
     "status": "completed"
    },
    "tags": []
   },
   "outputs": [
    {
     "name": "stdout",
     "output_type": "stream",
     "text": [
      "     PassengerId  Survived\n",
      "0            892         0\n",
      "1            893         1\n",
      "2            894         0\n",
      "3            895         0\n",
      "4            896         1\n",
      "..           ...       ...\n",
      "413         1305         0\n",
      "414         1306         1\n",
      "415         1307         0\n",
      "416         1308         0\n",
      "417         1309         0\n",
      "\n",
      "[418 rows x 2 columns]\n"
     ]
    }
   ],
   "source": [
    "print(data_submissions)"
   ]
  },
  {
   "cell_type": "code",
   "execution_count": 4,
   "id": "bb29909f",
   "metadata": {
    "execution": {
     "iopub.execute_input": "2024-05-15T12:27:57.444662Z",
     "iopub.status.busy": "2024-05-15T12:27:57.443797Z",
     "iopub.status.idle": "2024-05-15T12:27:57.451172Z",
     "shell.execute_reply": "2024-05-15T12:27:57.449879Z"
    },
    "papermill": {
     "duration": 0.014854,
     "end_time": "2024-05-15T12:27:57.453578",
     "exception": false,
     "start_time": "2024-05-15T12:27:57.438724",
     "status": "completed"
    },
    "tags": []
   },
   "outputs": [
    {
     "name": "stdout",
     "output_type": "stream",
     "text": [
      "PassengerId    False\n",
      "Pclass         False\n",
      "Name           False\n",
      "Sex            False\n",
      "Age             True\n",
      "SibSp          False\n",
      "Parch          False\n",
      "Ticket         False\n",
      "Fare            True\n",
      "Cabin           True\n",
      "Embarked       False\n",
      "dtype: bool\n"
     ]
    }
   ],
   "source": [
    "nan_columns = data_test.isna().any()\n",
    "\n",
    "print(nan_columns)"
   ]
  },
  {
   "cell_type": "code",
   "execution_count": 5,
   "id": "5e0ba208",
   "metadata": {
    "execution": {
     "iopub.execute_input": "2024-05-15T12:27:57.463934Z",
     "iopub.status.busy": "2024-05-15T12:27:57.463584Z",
     "iopub.status.idle": "2024-05-15T12:27:57.482285Z",
     "shell.execute_reply": "2024-05-15T12:27:57.481256Z"
    },
    "papermill": {
     "duration": 0.02668,
     "end_time": "2024-05-15T12:27:57.484653",
     "exception": false,
     "start_time": "2024-05-15T12:27:57.457973",
     "status": "completed"
    },
    "tags": []
   },
   "outputs": [
    {
     "name": "stderr",
     "output_type": "stream",
     "text": [
      "/tmp/ipykernel_18/3498157862.py:8: FutureWarning: Downcasting behavior in `replace` is deprecated and will be removed in a future version. To retain the old behavior, explicitly call `result.infer_objects(copy=False)`. To opt-in to the future behavior, set `pd.set_option('future.no_silent_downcasting', True)`\n",
      "  x_train['Sex'] = x_train['Sex'].replace({'male': 0, 'female': 1})\n",
      "/tmp/ipykernel_18/3498157862.py:9: FutureWarning: Downcasting behavior in `replace` is deprecated and will be removed in a future version. To retain the old behavior, explicitly call `result.infer_objects(copy=False)`. To opt-in to the future behavior, set `pd.set_option('future.no_silent_downcasting', True)`\n",
      "  x_test['Sex'] = x_test['Sex'].replace({'male': 0, 'female': 1})\n",
      "/tmp/ipykernel_18/3498157862.py:11: FutureWarning: Downcasting behavior in `replace` is deprecated and will be removed in a future version. To retain the old behavior, explicitly call `result.infer_objects(copy=False)`. To opt-in to the future behavior, set `pd.set_option('future.no_silent_downcasting', True)`\n",
      "  x_train['Embarked'] = x_train['Embarked'].replace({'S': 1, 'C': 2, 'Q': 3})\n",
      "/tmp/ipykernel_18/3498157862.py:12: FutureWarning: Downcasting behavior in `replace` is deprecated and will be removed in a future version. To retain the old behavior, explicitly call `result.infer_objects(copy=False)`. To opt-in to the future behavior, set `pd.set_option('future.no_silent_downcasting', True)`\n",
      "  x_test['Embarked'] = x_test['Embarked'].replace({'S': 1, 'C': 2, 'Q': 3})\n"
     ]
    }
   ],
   "source": [
    "features = ['Pclass', 'Sex', 'Age', 'Fare', 'Cabin', 'Embarked']\n",
    "\n",
    "x_train = data_train[features].copy()\n",
    "x_test = data_test[features].copy()\n",
    "\n",
    "y_train = data_train['Survived']\n",
    "\n",
    "x_train['Sex'] = x_train['Sex'].replace({'male': 0, 'female': 1})\n",
    "x_test['Sex'] = x_test['Sex'].replace({'male': 0, 'female': 1})\n",
    "\n",
    "x_train['Embarked'] = x_train['Embarked'].replace({'S': 1, 'C': 2, 'Q': 3})\n",
    "x_test['Embarked'] = x_test['Embarked'].replace({'S': 1, 'C': 2, 'Q': 3})"
   ]
  },
  {
   "cell_type": "code",
   "execution_count": 6,
   "id": "53a636f2",
   "metadata": {
    "execution": {
     "iopub.execute_input": "2024-05-15T12:27:57.495390Z",
     "iopub.status.busy": "2024-05-15T12:27:57.494991Z",
     "iopub.status.idle": "2024-05-15T12:27:57.521453Z",
     "shell.execute_reply": "2024-05-15T12:27:57.520226Z"
    },
    "papermill": {
     "duration": 0.034465,
     "end_time": "2024-05-15T12:27:57.523593",
     "exception": false,
     "start_time": "2024-05-15T12:27:57.489128",
     "status": "completed"
    },
    "tags": []
   },
   "outputs": [
    {
     "name": "stderr",
     "output_type": "stream",
     "text": [
      "/tmp/ipykernel_18/3771157943.py:3: FutureWarning: A value is trying to be set on a copy of a DataFrame or Series through chained assignment using an inplace method.\n",
      "The behavior will change in pandas 3.0. This inplace method will never work because the intermediate object on which we are setting values always behaves as a copy.\n",
      "\n",
      "For example, when doing 'df[col].method(value, inplace=True)', try using 'df.method({col: value}, inplace=True)' or df[col] = df[col].method(value) instead, to perform the operation inplace on the original object.\n",
      "\n",
      "\n",
      "  x_train['Age'].fillna(median_age, inplace=True)\n",
      "/tmp/ipykernel_18/3771157943.py:4: FutureWarning: A value is trying to be set on a copy of a DataFrame or Series through chained assignment using an inplace method.\n",
      "The behavior will change in pandas 3.0. This inplace method will never work because the intermediate object on which we are setting values always behaves as a copy.\n",
      "\n",
      "For example, when doing 'df[col].method(value, inplace=True)', try using 'df.method({col: value}, inplace=True)' or df[col] = df[col].method(value) instead, to perform the operation inplace on the original object.\n",
      "\n",
      "\n",
      "  x_test['Age'].fillna(median_age, inplace=True)\n",
      "/tmp/ipykernel_18/3771157943.py:18: FutureWarning: A value is trying to be set on a copy of a DataFrame or Series through chained assignment using an inplace method.\n",
      "The behavior will change in pandas 3.0. This inplace method will never work because the intermediate object on which we are setting values always behaves as a copy.\n",
      "\n",
      "For example, when doing 'df[col].method(value, inplace=True)', try using 'df.method({col: value}, inplace=True)' or df[col] = df[col].method(value) instead, to perform the operation inplace on the original object.\n",
      "\n",
      "\n",
      "  x_train['Cabin'].fillna(0, inplace=True)\n",
      "/tmp/ipykernel_18/3771157943.py:19: FutureWarning: A value is trying to be set on a copy of a DataFrame or Series through chained assignment using an inplace method.\n",
      "The behavior will change in pandas 3.0. This inplace method will never work because the intermediate object on which we are setting values always behaves as a copy.\n",
      "\n",
      "For example, when doing 'df[col].method(value, inplace=True)', try using 'df.method({col: value}, inplace=True)' or df[col] = df[col].method(value) instead, to perform the operation inplace on the original object.\n",
      "\n",
      "\n",
      "  x_test['Cabin'].fillna(0, inplace=True)\n",
      "/tmp/ipykernel_18/3771157943.py:24: FutureWarning: A value is trying to be set on a copy of a DataFrame or Series through chained assignment using an inplace method.\n",
      "The behavior will change in pandas 3.0. This inplace method will never work because the intermediate object on which we are setting values always behaves as a copy.\n",
      "\n",
      "For example, when doing 'df[col].method(value, inplace=True)', try using 'df.method({col: value}, inplace=True)' or df[col] = df[col].method(value) instead, to perform the operation inplace on the original object.\n",
      "\n",
      "\n",
      "  x_train['Embarked'].fillna(1, inplace=True)\n"
     ]
    }
   ],
   "source": [
    "median_age = x_train['Age'].median()\n",
    "\n",
    "x_train['Age'].fillna(median_age, inplace=True)\n",
    "x_test['Age'].fillna(median_age, inplace=True)\n",
    "\n",
    "FC_mean_fare = x_train.loc[x_train['Pclass'] == 1, 'Fare'].mean()\n",
    "SC_mean_fare = x_train.loc[x_train['Pclass'] == 2, 'Fare'].mean()\n",
    "TC_mean_fare = x_train.loc[x_train['Pclass'] == 3, 'Fare'].mean()\n",
    "\n",
    "x_train.loc[(x_train['Pclass'] == 1) & (x_train['Fare'].isna()), 'Fare'] = FC_mean_fare\n",
    "x_train.loc[(x_train['Pclass'] == 2) & (x_train['Fare'].isna()), 'Fare'] = SC_mean_fare\n",
    "x_train.loc[(x_train['Pclass'] == 3) & (x_train['Fare'].isna()), 'Fare'] = TC_mean_fare\n",
    "\n",
    "x_test.loc[(x_test['Pclass'] == 1) & (x_test['Fare'].isna()), 'Fare'] = FC_mean_fare\n",
    "x_test.loc[(x_test['Pclass'] == 2) & (x_test['Fare'].isna()), 'Fare'] = SC_mean_fare\n",
    "x_test.loc[(x_test['Pclass'] == 3) & (x_test['Fare'].isna()), 'Fare'] = TC_mean_fare\n",
    "\n",
    "x_train['Cabin'].fillna(0, inplace=True)\n",
    "x_test['Cabin'].fillna(0, inplace=True)\n",
    "\n",
    "x_train.loc[x_train['Cabin'] != 0, 'Cabin'] = 1\n",
    "x_test.loc[x_test['Cabin'] != 0, 'Cabin'] = 1\n",
    "\n",
    "x_train['Embarked'].fillna(1, inplace=True)\n"
   ]
  },
  {
   "cell_type": "code",
   "execution_count": 7,
   "id": "7f20b5ef",
   "metadata": {
    "execution": {
     "iopub.execute_input": "2024-05-15T12:27:57.534690Z",
     "iopub.status.busy": "2024-05-15T12:27:57.534317Z",
     "iopub.status.idle": "2024-05-15T12:27:57.541277Z",
     "shell.execute_reply": "2024-05-15T12:27:57.540215Z"
    },
    "papermill": {
     "duration": 0.015835,
     "end_time": "2024-05-15T12:27:57.544161",
     "exception": false,
     "start_time": "2024-05-15T12:27:57.528326",
     "status": "completed"
    },
    "tags": []
   },
   "outputs": [
    {
     "name": "stdout",
     "output_type": "stream",
     "text": [
      "Pclass      False\n",
      "Sex         False\n",
      "Age         False\n",
      "Fare        False\n",
      "Cabin       False\n",
      "Embarked    False\n",
      "dtype: bool\n"
     ]
    }
   ],
   "source": [
    "nan_columns = x_train.isna().any()\n",
    "\n",
    "print(nan_columns)"
   ]
  },
  {
   "cell_type": "code",
   "execution_count": 8,
   "id": "621955fd",
   "metadata": {
    "execution": {
     "iopub.execute_input": "2024-05-15T12:27:57.555182Z",
     "iopub.status.busy": "2024-05-15T12:27:57.554805Z",
     "iopub.status.idle": "2024-05-15T12:27:57.875759Z",
     "shell.execute_reply": "2024-05-15T12:27:57.874846Z"
    },
    "papermill": {
     "duration": 0.329578,
     "end_time": "2024-05-15T12:27:57.878510",
     "exception": false,
     "start_time": "2024-05-15T12:27:57.548932",
     "status": "completed"
    },
    "tags": []
   },
   "outputs": [
    {
     "name": "stdout",
     "output_type": "stream",
     "text": [
      "     PassengerId  Survived\n",
      "0            892         0\n",
      "1            893         0\n",
      "2            894         0\n",
      "3            895         1\n",
      "4            896         0\n",
      "..           ...       ...\n",
      "413         1305         0\n",
      "414         1306         1\n",
      "415         1307         0\n",
      "416         1308         0\n",
      "417         1309         0\n",
      "\n",
      "[418 rows x 2 columns]\n"
     ]
    }
   ],
   "source": [
    "model = RandomForestClassifier(random_state=1)\n",
    "\n",
    "model.fit(x_train, y_train)\n",
    "\n",
    "predictions = model.predict(x_test)\n",
    "\n",
    "submission_df = pd.DataFrame({'PassengerId': data_test['PassengerId'], 'Survived': predictions})\n",
    "\n",
    "submission_df.to_csv('submission.csv', index=False)\n",
    "\n",
    "print(submission_df)"
   ]
  }
 ],
 "metadata": {
  "kaggle": {
   "accelerator": "none",
   "dataSources": [
    {
     "databundleVersionId": 26502,
     "sourceId": 3136,
     "sourceType": "competition"
    }
   ],
   "dockerImageVersionId": 30698,
   "isGpuEnabled": false,
   "isInternetEnabled": false,
   "language": "python",
   "sourceType": "notebook"
  },
  "kernelspec": {
   "display_name": "Python 3",
   "language": "python",
   "name": "python3"
  },
  "language_info": {
   "codemirror_mode": {
    "name": "ipython",
    "version": 3
   },
   "file_extension": ".py",
   "mimetype": "text/x-python",
   "name": "python",
   "nbconvert_exporter": "python",
   "pygments_lexer": "ipython3",
   "version": "3.10.13"
  },
  "papermill": {
   "default_parameters": {},
   "duration": 6.616108,
   "end_time": "2024-05-15T12:27:58.505199",
   "environment_variables": {},
   "exception": null,
   "input_path": "__notebook__.ipynb",
   "output_path": "__notebook__.ipynb",
   "parameters": {},
   "start_time": "2024-05-15T12:27:51.889091",
   "version": "2.5.0"
  }
 },
 "nbformat": 4,
 "nbformat_minor": 5
}
